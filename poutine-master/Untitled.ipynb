{
 "cells": [
  {
   "cell_type": "markdown",
   "metadata": {},
   "source": [
    "### ingest data from harvard dataset ###"
   ]
  },
  {
   "cell_type": "code",
   "execution_count": 1,
   "metadata": {},
   "outputs": [],
   "source": [
    "dataset_id = \"hdv_staging\""
   ]
  },
  {
   "cell_type": "code",
   "execution_count": 3,
   "metadata": {},
   "outputs": [
    {
     "name": "stdout",
     "output_type": "stream",
     "text": [
      "Dataset 'alert-result-266803:hdv_staging' successfully created.\n"
     ]
    }
   ],
   "source": [
    "!bq --location=US mk --dataset {dataset_id}"
   ]
  },
  {
   "cell_type": "code",
   "execution_count": 10,
   "metadata": {},
   "outputs": [
    {
     "name": "stdout",
     "output_type": "stream",
     "text": [
      "Waiting on bqjob_r6702919c3e5b8d46_000001702c2b72cb_1 ... (1s) Current status: DONE   \n",
      "BigQuery error in load operation: Error processing job 'alert-\n",
      "result-266803:bqjob_r6702919c3e5b8d46_000001702c2b72cb_1': Error while reading\n",
      "data, error message: CSV table encountered too many errors, giving up. Rows:\n",
      "1979; errors: 1. Please look into the errors[] collection for more details.\n",
      "Failure details:\n",
      "- gs://bucket_mbayh_dataset1/dataset1/2016-house-long.csv: Error\n",
      "while reading data, error message: Could not parse 'Independent' as\n",
      "int for field fipscode (position 2) starting at location 137333\n"
     ]
    }
   ],
   "source": [
    "!bq --location=US load --autodetect --skip_leading_rows=1 \\\n",
    "--source_format=CSV {dataset_id}.House2018 \\\n",
    "'gs://bucket_mbayh_dataset1/dataset1/2016-house-long.csv'"
   ]
  },
  {
   "cell_type": "code",
   "execution_count": null,
   "metadata": {},
   "outputs": [],
   "source": [
    "!bq --location=US load --autodetect --skip_leading_rows=1 \\\n",
    "--source_format=CSV {dataset_id}.President2016 \\\n",
    "'gs://bucket_mbayh_dataset1/dataset1/2016-president-long.csv'"
   ]
  },
  {
   "cell_type": "code",
   "execution_count": 14,
   "metadata": {},
   "outputs": [
    {
     "name": "stdout",
     "output_type": "stream",
     "text": [
      "Waiting on bqjob_r4e29dc1d68d38611_000001702c3b0457_1 ... (1s) Current status: DONE   \n"
     ]
    }
   ],
   "source": [
    "!bq --location=US load --autodetect --skip_leading_rows=1 \\\n",
    "--source_format=CSV {dataset_id}.Senate2018 \\\n",
    "'gs://bucket_mbayh_dataset1/dataset1/2018-senate-long.csv'"
   ]
  },
  {
   "cell_type": "code",
   "execution_count": 8,
   "metadata": {},
   "outputs": [
    {
     "name": "stdout",
     "output_type": "stream",
     "text": [
      "Executing query with job ID: 7cf42cba-2758-4f5e-aee7-95f5a7f42094\n",
      "Query executing: 0.35s"
     ]
    },
    {
     "name": "stderr",
     "output_type": "stream",
     "text": [
      "\n",
      "ERROR:\n",
      " 404 Not found: Table alert-result-266803:hdv_staging.House2016 was not found in location US\n",
      "\n",
      "(job ID: 7cf42cba-2758-4f5e-aee7-95f5a7f42094)\n",
      "\n",
      "    -----Query Job SQL Follows-----     \n",
      "\n",
      "    |    .    |    .    |    .    |\n",
      "   1:select * from hdv_staging.House2016\n",
      "   2:limit 5\n",
      "    |    .    |    .    |    .    |\n"
     ]
    }
   ],
   "source": [
    "%%bigquery\n",
    "select * from hdv_staging.House2016\n",
    "limit 5"
   ]
  },
  {
   "cell_type": "code",
   "execution_count": 15,
   "metadata": {},
   "outputs": [
    {
     "name": "stdout",
     "output_type": "stream",
     "text": [
      "Waiting on bqjob_r7904440bc67df0c2_000001702c42f4b8_1 ... (1s) Current status: DONE   \n",
      "BigQuery error in load operation: Error processing job 'alert-\n",
      "result-266803:bqjob_r7904440bc67df0c2_000001702c42f4b8_1': Error while reading\n",
      "data, error message: CSV table encountered too many errors, giving up. Rows:\n",
      "1979; errors: 1. Please look into the errors[] collection for more details.\n",
      "Failure details:\n",
      "- gs://bucket_mbayh_dataset1/dataset1/2016-house-long.csv: Error\n",
      "while reading data, error message: Could not parse 'Independent' as\n",
      "int for field fipscode (position 2) starting at location 137333\n"
     ]
    }
   ],
   "source": [
    "!bq --location=US load --autodetect --skip_leading_rows=1 \\\n",
    "--source_format=CSV {dataset_id}.House2016 \\\n",
    "'gs://bucket_mbayh_dataset1/dataset1/2016-house-long.csv'"
   ]
  },
  {
   "cell_type": "code",
   "execution_count": 16,
   "metadata": {},
   "outputs": [
    {
     "name": "stdout",
     "output_type": "stream",
     "text": [
      "Waiting on bqjob_r493acd4ea6ea0c83_000001702c46f639_1 ... (1s) Current status: DONE   \n",
      "BigQuery error in load operation: Error processing job 'alert-\n",
      "result-266803:bqjob_r493acd4ea6ea0c83_000001702c46f639_1': Error while reading\n",
      "data, error message: CSV table encountered too many errors, giving up. Rows:\n",
      "1979; errors: 1. Please look into the errors[] collection for more details.\n",
      "Failure details:\n",
      "- gs://bucket_mbayh_dataset1/dataset1/2016-house-long.csv: Error\n",
      "while reading data, error message: Could not parse 'Independent' as\n",
      "int for field fipscode (position 2) starting at location 137333\n"
     ]
    }
   ],
   "source": [
    "!bq --location=US load --autodetect --skip_leading_rows=1 \\\n",
    "--source_format=CSV {dataset_id}.House2016 \\\n",
    "'gs://bucket_mbayh_dataset1/dataset1/2016-house-long.csv'"
   ]
  },
  {
   "cell_type": "code",
   "execution_count": 17,
   "metadata": {},
   "outputs": [
    {
     "name": "stdout",
     "output_type": "stream",
     "text": [
      "Waiting on bqjob_r407a27031143ca8b_000001702c48133b_1 ... (1s) Current status: DONE   \n",
      "BigQuery error in load operation: Error processing job 'alert-\n",
      "result-266803:bqjob_r407a27031143ca8b_000001702c48133b_1': Error while reading\n",
      "data, error message: CSV table encountered too many errors, giving up. Rows:\n",
      "3712; errors: 1. Please look into the errors[] collection for more details.\n",
      "Failure details:\n",
      "- gs://bucket_mbayh_dataset1/dataset1/2016-house-long.csv: Error\n",
      "while reading data, error message: Could not parse 'Independent' as\n",
      "int for field fipscode (position 2) starting at location 259026\n"
     ]
    }
   ],
   "source": [
    "!bq --location=US load --autodetect --skip_leading_rows=1 \\\n",
    "--source_format=CSV {dataset_id}.House2016 \\\n",
    "'gs://bucket_mbayh_dataset1/dataset1/2016-house-long.csv'"
   ]
  },
  {
   "cell_type": "code",
   "execution_count": 18,
   "metadata": {},
   "outputs": [
    {
     "name": "stdout",
     "output_type": "stream",
     "text": [
      "Waiting on bqjob_r2721765dd481e1aa_000001702c4a4bd1_1 ... (2s) Current status: DONE   \n",
      "BigQuery error in load operation: Error processing job 'alert-\n",
      "result-266803:bqjob_r2721765dd481e1aa_000001702c4a4bd1_1': Error while reading\n",
      "data, error message: CSV table encountered too many errors, giving up. Rows:\n",
      "6201; errors: 1. Please look into the errors[] collection for more details.\n",
      "Failure details:\n",
      "- gs://bucket_mbayh_dataset1/dataset1/2016-house-long.csv: Error\n",
      "while reading data, error message: Could not parse 'Independent' as\n",
      "int for field fipscode (position 2) starting at location 432195\n"
     ]
    }
   ],
   "source": [
    "!bq --location=US load --autodetect --skip_leading_rows=1 \\\n",
    "--source_format=CSV {dataset_id}.House2016 \\\n",
    "'gs://bucket_mbayh_dataset1/dataset1/2016-house-long.csv'"
   ]
  },
  {
   "cell_type": "code",
   "execution_count": 19,
   "metadata": {},
   "outputs": [
    {
     "name": "stdout",
     "output_type": "stream",
     "text": [
      "Waiting on bqjob_r51cb77a48fdb3f33_000001702c607022_1 ... (7s) Current status: DONE   \n"
     ]
    }
   ],
   "source": [
    "!bq --location=US load --autodetect --skip_leading_rows=1 \\\n",
    "--source_format=CSV {dataset_id}.House2016 \\\n",
    "'gs://bucket_mbayh_dataset1/dataset1/2016-house-long.csv'"
   ]
  },
  {
   "cell_type": "code",
   "execution_count": 20,
   "metadata": {},
   "outputs": [
    {
     "name": "stdout",
     "output_type": "stream",
     "text": [
      "Waiting on bqjob_r58cec8b93c7d6d1a_000001702c623454_1 ... (1s) Current status: DONE   \n",
      "BigQuery error in load operation: Error processing job 'alert-\n",
      "result-266803:bqjob_r58cec8b93c7d6d1a_000001702c623454_1': Error while reading\n",
      "data, error message: CSV table encountered too many errors, giving up. Rows:\n",
      "7560; errors: 1. Please look into the errors[] collection for more details.\n",
      "Failure details:\n",
      "- gs://bucket_mbayh_dataset1/dataset1/2016-president-long.csv: Error\n",
      "while reading data, error message: Could not parse 'NA' as int for\n",
      "field fipscode (position 2) starting at location 512489\n"
     ]
    }
   ],
   "source": [
    "!bq --location=US load --autodetect --skip_leading_rows=1 \\\n",
    "--source_format=CSV {dataset_id}.President2016 \\\n",
    "'gs://bucket_mbayh_dataset1/dataset1/2016-president-long.csv'"
   ]
  },
  {
   "cell_type": "code",
   "execution_count": 21,
   "metadata": {},
   "outputs": [
    {
     "name": "stdout",
     "output_type": "stream",
     "text": [
      "Waiting on bqjob_r2c97f31030ba12c9_000001702c6b4f34_1 ... (3s) Current status: DONE   \n",
      "BigQuery error in load operation: Error processing job 'alert-\n",
      "result-266803:bqjob_r2c97f31030ba12c9_000001702c6b4f34_1': Error while reading\n",
      "data, error message: CSV table encountered too many errors, giving up. Rows:\n",
      "24343; errors: 1. Please look into the errors[] collection for more details.\n",
      "Failure details:\n",
      "- gs://bucket_mbayh_dataset1/dataset1/2016-president-long.csv: Error\n",
      "while reading data, error message: Could not parse '2.45E+09' as\n",
      "int for field fipscode (position 2) starting at location 1661982\n"
     ]
    }
   ],
   "source": [
    "!bq --location=US load --autodetect --skip_leading_rows=1 \\\n",
    "--source_format=CSV {dataset_id}.President2016 \\\n",
    "'gs://bucket_mbayh_dataset1/dataset1/2016-president-long.csv'"
   ]
  },
  {
   "cell_type": "code",
   "execution_count": 22,
   "metadata": {},
   "outputs": [
    {
     "name": "stdout",
     "output_type": "stream",
     "text": [
      "Waiting on bqjob_r49bd286e01a61357_000001702c6d3146_1 ... (2s) Current status: DONE   \n",
      "BigQuery error in load operation: Error processing job 'alert-\n",
      "result-266803:bqjob_r49bd286e01a61357_000001702c6d3146_1': Error while reading\n",
      "data, error message: CSV table encountered too many errors, giving up. Rows:\n",
      "24343; errors: 1. Please look into the errors[] collection for more details.\n",
      "Failure details:\n",
      "- gs://bucket_mbayh_dataset1/dataset1/2016-president-long.csv: Error\n",
      "while reading data, error message: Could not parse '2.45E+09' as\n",
      "int for field fipscode (position 2) starting at location 1661982\n"
     ]
    }
   ],
   "source": [
    "!bq --location=US load --autodetect --skip_leading_rows=1 \\\n",
    "--source_format=CSV {dataset_id}.President2016 \\\n",
    "'gs://bucket_mbayh_dataset1/dataset1/2016-president-long.csv'"
   ]
  },
  {
   "cell_type": "code",
   "execution_count": 23,
   "metadata": {},
   "outputs": [
    {
     "name": "stdout",
     "output_type": "stream",
     "text": [
      "Waiting on bqjob_r3cc83355c48e04cb_000001702c6f1213_1 ... (2s) Current status: DONE   \n",
      "BigQuery error in load operation: Error processing job 'alert-\n",
      "result-266803:bqjob_r3cc83355c48e04cb_000001702c6f1213_1': Error while reading\n",
      "data, error message: CSV table encountered too many errors, giving up. Rows:\n",
      "24343; errors: 1. Please look into the errors[] collection for more details.\n",
      "Failure details:\n",
      "- gs://bucket_mbayh_dataset1/dataset1/2016-president-long.csv: Error\n",
      "while reading data, error message: Could not parse '2.45E+09' as\n",
      "int for field fipscode (position 2) starting at location 1661982\n"
     ]
    }
   ],
   "source": [
    "!bq --location=US load --autodetect --skip_leading_rows=1 \\\n",
    "--source_format=CSV {dataset_id}.President2016 \\\n",
    "'gs://bucket_mbayh_dataset1/dataset1/2016-president-long.csv'\n"
   ]
  },
  {
   "cell_type": "code",
   "execution_count": 29,
   "metadata": {},
   "outputs": [
    {
     "name": "stdout",
     "output_type": "stream",
     "text": [
      "Waiting on bqjob_r15d227d96d23f53_000001702c730c24_1 ... (2s) Current status: DONE   \n"
     ]
    }
   ],
   "source": [
    "!bq --location=US load --autodetect --skip_leading_rows=1 \\\n",
    "--source_format=CSV {dataset_id}.President2016 \\\n",
    "'gs://bucket_mbayh_dataset1/dataset1/2016-president-long.csv'\n"
   ]
  },
  {
   "cell_type": "code",
   "execution_count": 30,
   "metadata": {},
   "outputs": [
    {
     "name": "stdout",
     "output_type": "stream",
     "text": [
      "Waiting on bqjob_r35e26e27cf4cb619_000001702c75df4a_1 ... (3s) Current status: DONE   \n",
      "BigQuery error in load operation: Error processing job 'alert-\n",
      "result-266803:bqjob_r35e26e27cf4cb619_000001702c75df4a_1': Error while reading\n",
      "data, error message: CSV table encountered too many errors, giving up. Rows:\n",
      "8114; errors: 1. Please look into the errors[] collection for more details.\n",
      "Failure details:\n",
      "- gs://bucket_mbayh_dataset1/dataset1/2016-senate-long.csv: Error\n",
      "while reading data, error message: Could not parse '2.45E+09' as\n",
      "int for field fipscode (position 2) starting at location 540746\n"
     ]
    }
   ],
   "source": [
    "!bq --location=US load --autodetect --skip_leading_rows=1 \\\n",
    "--source_format=CSV {dataset_id}.Senate2016 \\\n",
    "'gs://bucket_mbayh_dataset1/dataset1/2016-senate-long.csv'\n"
   ]
  },
  {
   "cell_type": "code",
   "execution_count": 31,
   "metadata": {},
   "outputs": [
    {
     "name": "stdout",
     "output_type": "stream",
     "text": [
      "Waiting on bqjob_r72143986bfcaad66_000001702c77d18d_1 ... (1s) Current status: DONE   \n",
      "BigQuery error in load operation: Error processing job 'alert-\n",
      "result-266803:bqjob_r72143986bfcaad66_000001702c77d18d_1': Error while reading\n",
      "data, error message: CSV table encountered too many errors, giving up. Rows:\n",
      "8114; errors: 1. Please look into the errors[] collection for more details.\n",
      "Failure details:\n",
      "- gs://bucket_mbayh_dataset1/dataset1/2016-senate-long.csv: Error\n",
      "while reading data, error message: Could not parse '2.45E+09' as\n",
      "int for field fipscode (position 2) starting at location 540746\n"
     ]
    }
   ],
   "source": [
    "!bq --location=US load --autodetect --skip_leading_rows=1 \\\n",
    "--source_format=CSV {dataset_id}.Senate2016 \\\n",
    "'gs://bucket_mbayh_dataset1/dataset1/2016-senate-long.csv'\n"
   ]
  },
  {
   "cell_type": "code",
   "execution_count": 32,
   "metadata": {},
   "outputs": [
    {
     "name": "stdout",
     "output_type": "stream",
     "text": [
      "Waiting on bqjob_r6704850da5841c51_000001702c798a52_1 ... (2s) Current status: DONE   \n"
     ]
    }
   ],
   "source": [
    "!bq --location=US load --autodetect --skip_leading_rows=1 \\\n",
    "--source_format=CSV {dataset_id}.Senate2016 \\\n",
    "'gs://bucket_mbayh_dataset1/dataset1/2016-senate-long.csv'\n"
   ]
  },
  {
   "cell_type": "code",
   "execution_count": 33,
   "metadata": {},
   "outputs": [
    {
     "name": "stdout",
     "output_type": "stream",
     "text": [
      "Waiting on bqjob_r59a5c16401e204ab_000001702c79face_1 ... (2s) Current status: DONE   \n"
     ]
    }
   ],
   "source": [
    "!bq --location=US load --autodetect --skip_leading_rows=1 \\\n",
    "--source_format=CSV {dataset_id}.House2018 \\\n",
    "'gs://bucket_mbayh_dataset1/dataset1/2018-house-long.csv'"
   ]
  },
  {
   "cell_type": "code",
   "execution_count": null,
   "metadata": {},
   "outputs": [],
   "source": []
  }
 ],
 "metadata": {
  "kernelspec": {
   "display_name": "Python 3",
   "language": "python",
   "name": "python3"
  },
  "language_info": {
   "codemirror_mode": {
    "name": "ipython",
    "version": 3
   },
   "file_extension": ".py",
   "mimetype": "text/x-python",
   "name": "python",
   "nbconvert_exporter": "python",
   "pygments_lexer": "ipython3",
   "version": "3.5.3"
  }
 },
 "nbformat": 4,
 "nbformat_minor": 4
}
