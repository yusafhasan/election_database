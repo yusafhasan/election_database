{
 "cells": [
  {
   "cell_type": "markdown",
   "metadata": {},
   "source": [
    "1. The first query will use a join between the following two tables: \n",
    "hdv_modeled.Results_Beam_DF and ers_modeled.Jurisdiction_Demography. The join\n",
    "will be across the fipscode fields. We will compare the voting results\n",
    "for 2016 Presidential Election with given unemployment rate data for each jurisdiction"
   ]
  },
  {
   "cell_type": "code",
   "execution_count": 76,
   "metadata": {},
   "outputs": [
    {
     "data": {
      "text/html": [
       "<div>\n",
       "<style scoped>\n",
       "    .dataframe tbody tr th:only-of-type {\n",
       "        vertical-align: middle;\n",
       "    }\n",
       "\n",
       "    .dataframe tbody tr th {\n",
       "        vertical-align: top;\n",
       "    }\n",
       "\n",
       "    .dataframe thead th {\n",
       "        text-align: right;\n",
       "    }\n",
       "</style>\n",
       "<table border=\"1\" class=\"dataframe\">\n",
       "  <thead>\n",
       "    <tr style=\"text-align: right;\">\n",
       "      <th></th>\n",
       "    </tr>\n",
       "  </thead>\n",
       "  <tbody>\n",
       "  </tbody>\n",
       "</table>\n",
       "</div>"
      ],
      "text/plain": [
       "Empty DataFrame\n",
       "Columns: []\n",
       "Index: []"
      ]
     },
     "execution_count": 76,
     "metadata": {},
     "output_type": "execute_result"
    }
   ],
   "source": [
    "%%bigquery\n",
    "CREATE VIEW reporting.Presidential_Election_vs_Unemployment_Rates AS\n",
    "SELECT DISTINCT t1.state, t1.jname, t1.fipscode, t1.cname, t1.party, t1.year, t1.vote_pct ,t2.unemployment_rate_16, t1.winner\n",
    "FROM alert-result-266803.hdv_modeled.Results_Beam_DF t1\n",
    "JOIN alert-result-266803.ers_modeled.Jurisdiction_Demography_SQL_Final t2\n",
    "ON t1.fipscode = t2.fipscode\n",
    "WHERE t1.winner = 1 and t1.office = 'President'\n",
    "ORDER BY t1.state, t1.jname"
   ]
  },
  {
   "cell_type": "markdown",
   "metadata": {},
   "source": [
    "2. This second query will compare results for the House 2016 and 2018 elections with population data from corresponding years. Here, we only look to jurisdictions with a growth rate of at least 5 percent from 2016 to 2018."
   ]
  },
  {
   "cell_type": "code",
   "execution_count": 77,
   "metadata": {},
   "outputs": [
    {
     "data": {
      "text/html": [
       "<div>\n",
       "<style scoped>\n",
       "    .dataframe tbody tr th:only-of-type {\n",
       "        vertical-align: middle;\n",
       "    }\n",
       "\n",
       "    .dataframe tbody tr th {\n",
       "        vertical-align: top;\n",
       "    }\n",
       "\n",
       "    .dataframe thead th {\n",
       "        text-align: right;\n",
       "    }\n",
       "</style>\n",
       "<table border=\"1\" class=\"dataframe\">\n",
       "  <thead>\n",
       "    <tr style=\"text-align: right;\">\n",
       "      <th></th>\n",
       "    </tr>\n",
       "  </thead>\n",
       "  <tbody>\n",
       "  </tbody>\n",
       "</table>\n",
       "</div>"
      ],
      "text/plain": [
       "Empty DataFrame\n",
       "Columns: []\n",
       "Index: []"
      ]
     },
     "execution_count": 77,
     "metadata": {},
     "output_type": "execute_result"
    }
   ],
   "source": [
    "%%bigquery\n",
    "CREATE VIEW reporting.House_Elections_vs_Population_Counts AS\n",
    "SELECT t1.state, t1.jname, t1.fipscode, t1.cname, t1.party, t1.year, t1.vote_pct ,t2.pop_16 as population, t1.winner\n",
    "FROM alert-result-266803.hdv_modeled.Results_Beam_DF t1\n",
    "JOIN alert-result-266803.ers_modeled.Jurisdiction_Demography_SQL_Final t2\n",
    "ON t1.fipscode = t2.fipscode\n",
    "WHERE  t1.office = 'US House' and ((t2.pop_18 - t2.pop_16)/(t2.pop_16) > 0.05) and t1.year = 2016\n",
    "\n",
    "\n",
    "UNION DISTINCT\n",
    "SELECT t1.state, t1.jname, t1.fipscode, t1.cname, t1.party, t1.year, t1.vote_pct ,t2.pop_18 as population, t1.winner\n",
    "FROM alert-result-266803.hdv_modeled.Results_Beam_DF t1\n",
    "JOIN alert-result-266803.ers_modeled.Jurisdiction_Demography_SQL_Final t2\n",
    "ON t1.fipscode = t2.fipscode\n",
    "WHERE  t1.office = 'US House' and ((t2.pop_18 - t2.pop_16)/(t2.pop_16) > 0.05) and t1.year = 2018\n",
    "\n",
    "ORDER BY state, jname"
   ]
  },
  {
   "cell_type": "markdown",
   "metadata": {},
   "source": [
    "3. In this last query, we investigate the average poverty level for both Democratic and Republican wins in the 2018 House Election. The top entry represents the Democratic Count and the bottom entry represents the Republican Count."
   ]
  },
  {
   "cell_type": "code",
   "execution_count": 79,
   "metadata": {},
   "outputs": [
    {
     "data": {
      "text/html": [
       "<div>\n",
       "<style scoped>\n",
       "    .dataframe tbody tr th:only-of-type {\n",
       "        vertical-align: middle;\n",
       "    }\n",
       "\n",
       "    .dataframe tbody tr th {\n",
       "        vertical-align: top;\n",
       "    }\n",
       "\n",
       "    .dataframe thead th {\n",
       "        text-align: right;\n",
       "    }\n",
       "</style>\n",
       "<table border=\"1\" class=\"dataframe\">\n",
       "  <thead>\n",
       "    <tr style=\"text-align: right;\">\n",
       "      <th></th>\n",
       "    </tr>\n",
       "  </thead>\n",
       "  <tbody>\n",
       "  </tbody>\n",
       "</table>\n",
       "</div>"
      ],
      "text/plain": [
       "Empty DataFrame\n",
       "Columns: []\n",
       "Index: []"
      ]
     },
     "execution_count": 79,
     "metadata": {},
     "output_type": "execute_result"
    }
   ],
   "source": [
    "%%bigquery\n",
    "CREATE VIEW reporting.Party_Wins_vs_Poverty_Count AS\n",
    "SELECT AVG(t2.pov_count_18) as Poverty_AVG\n",
    "FROM alert-result-266803.hdv_modeled.Results_Beam_DF t1\n",
    "JOIN alert-result-266803.ers_modeled.Jurisdiction_Demography_SQL_Final t2\n",
    "ON t1.fipscode = t2.fipscode\n",
    "WHERE t1.winner = 1 and t1.office = 'US House'  and t1.party = 'Republican' and t1.year = 2018 \n",
    "\n",
    "UNION DISTINCT\n",
    "SELECT AVG(t2.pov_count_18) \n",
    "FROM alert-result-266803.hdv_modeled.Results_Beam_DF t1\n",
    "JOIN alert-result-266803.ers_modeled.Jurisdiction_Demography_SQL_Final t2\n",
    "ON t1.fipscode = t2.fipscode\n",
    "WHERE t1.winner = 1 and t1.office = 'US House'  and t1.party = 'Democrat' and t1.year = 2018\n",
    "GROUP BY party"
   ]
  },
  {
   "cell_type": "code",
   "execution_count": null,
   "metadata": {},
   "outputs": [],
   "source": []
  }
 ],
 "metadata": {
  "kernelspec": {
   "display_name": "Python 3",
   "language": "python",
   "name": "python3"
  },
  "language_info": {
   "codemirror_mode": {
    "name": "ipython",
    "version": 3
   },
   "file_extension": ".py",
   "mimetype": "text/x-python",
   "name": "python",
   "nbconvert_exporter": "python",
   "pygments_lexer": "ipython3",
   "version": "3.5.3"
  }
 },
 "nbformat": 4,
 "nbformat_minor": 4
}
